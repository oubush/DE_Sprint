{
 "cells": [
  {
   "cell_type": "markdown",
   "metadata": {},
   "source": [
    "## Раздел \"1.3 Основы синтаксиса и структур Python\""
   ]
  },
  {
   "cell_type": "markdown",
   "metadata": {},
   "source": [
    "##  Практическая работа №2 Основы Python"
   ]
  },
  {
   "attachments": {
    "image.png": {
     "image/png": "[encoded data removed]"
    }
   },
   "cell_type": "markdown",
   "metadata": {},
   "source": [
    "### Задание 1.\n",
    "Необходимо спарсить данные о вакансиях python разработчиков с сайта hh.ru, введя в поиск “python разработчик” и указав, что мы рассматриваем все регионы. Необходимо спарсить:\n",
    "\n",
    "Название вакансии  \n",
    "Требуемый опыт работы  \n",
    "Заработную плату  \n",
    "Регион  \n",
    "И сохранить эти данные в формате json в следующем виде:\n",
    "![image.png](attachment:image.png)"
   ]
  },
  {
   "cell_type": "code",
   "execution_count": 72,
   "metadata": {},
   "outputs": [],
   "source": [
    "import requests\n",
    "import json\n",
    "from tqdm import tqdm\n",
    "import time\n",
    "import random\n",
    "import re\n",
    "from bs4 import BeautifulSoup"
   ]
  },
  {
   "cell_type": "markdown",
   "metadata": {},
   "source": [
    "#### Решение 1 с помощью библиотеки `bs4`"
   ]
  },
  {
   "cell_type": "code",
   "execution_count": 87,
   "metadata": {},
   "outputs": [
    {
     "name": "stderr",
     "output_type": "stream",
     "text": [
      "100%|██████████████████████████████████████████████████████████████████████████████████| 20/20 [00:22<00:00,  1.11s/it]\n"
     ]
    }
   ],
   "source": [
    "url = 'https://hh.ru/search/vacancy?text=python+разработчик&area=113'\n",
    "\n",
    "links = []\n",
    "for page in tqdm(range(20)):\n",
    "    resp = requests.get(f'{url}&page={page}', headers={'user-agent': 'Mozilla/5.0'})\n",
    "    soup = BeautifulSoup(resp.text, 'lxml')\n",
    "    resp.close()\n",
    "    items = soup.find_all(class_='vacancy-serp-item-body')\n",
    "    for item in items:\n",
    "        link = item.find(attrs={'data-qa': \"serp-item__title\"})['href']\n",
    "        links.append(re.search('https://hh.ru/vacancy/\\d+', link)[0])"
   ]
  },
  {
   "cell_type": "code",
   "execution_count": null,
   "metadata": {},
   "outputs": [],
   "source": [
    "result = {}\n",
    "result['data'] = []\n",
    "for link in tqdm(links):\n",
    "    resp = requests.get(link, headers={'user-agent': 'Mozilla/5.0'})\n",
    "    soup = BeautifulSoup(resp.text, 'lxml')\n",
    "    resp.close()\n",
    "    title = soup.find(attrs={'data-qa': \"vacancy-title\"})\n",
    "    exp = soup.find(attrs={'data-qa': \"vacancy-experience\"})\n",
    "    salary = soup.find(attrs={'data-qa': \"vacancy-salary\"})\n",
    "    region = soup.find(attrs={'data-qa': \"vacancy-serp__vacancy-address\"})\n",
    "    result['data'].append({\n",
    "        'title': title.text.replace('\\xa0', ' ') if title else None,\n",
    "        'work experience': exp.text.replace('\\xa0', ' ') if exp else None,\n",
    "        'salary': salary.text.replace('\\xa0', ' ') if salary else None,\n",
    "        'region': region.text.replace('\\xa0', ' ') if region else None\n",
    "    })\n",
    "    time.sleep(random.randint(2,5))"
   ]
  },
  {
   "cell_type": "code",
   "execution_count": 136,
   "metadata": {},
   "outputs": [],
   "source": [
    "# Сохранение результатов в json формате\n",
    "with open('data.json', 'w', encoding='utf-8') as file:\n",
    "    json.dump(result, file, ensure_ascii=False, indent=4)"
   ]
  },
  {
   "cell_type": "markdown",
   "metadata": {},
   "source": [
    "#### Решение 2 с помощью библиотеки `requests` и API hh.ru https://github.com/hhru/api/"
   ]
  },
  {
   "cell_type": "code",
   "execution_count": 63,
   "metadata": {},
   "outputs": [
    {
     "name": "stdout",
     "output_type": "stream",
     "text": [
      "764\n"
     ]
    }
   ],
   "source": [
    "# Поиск по вакансиям через API hh.ru\n",
    "page = 0\n",
    "ids = []\n",
    "while True:\n",
    "    req = requests.get(\n",
    "        'https://api.hh.ru/vacancies',\n",
    "        params={\n",
    "            'area': 113,\n",
    "            'text': 'python разработчик',\n",
    "            'search_field': 'name',\n",
    "            'per_page': 100,\n",
    "            'page': page\n",
    "        }\n",
    "    )\n",
    "    data = req.content.decode()\n",
    "    req.close()\n",
    "    data_dict = json.loads(data)\n",
    "    ids += [item['id'] for item in data_dict['items']]\n",
    "    if len(data_dict['items']) < 100:\n",
    "        break\n",
    "    page += 1"
   ]
  },
  {
   "cell_type": "code",
   "execution_count": 68,
   "metadata": {},
   "outputs": [
    {
     "name": "stderr",
     "output_type": "stream",
     "text": [
      "100%|████████████████████████████████████████████████████████████████████████████████| 764/764 [03:37<00:00,  3.51it/s]\n"
     ]
    }
   ],
   "source": [
    "# Выгрузка данных для найденных вакансий через API hh.ru\n",
    "result = {}\n",
    "result['data'] = []\n",
    "for vacancy_id in tqdm(ids):\n",
    "    req = requests.get(\n",
    "        'https://api.hh.ru/vacancies/' + vacancy_id\n",
    "    )\n",
    "    data = req.content.decode()\n",
    "    req.close()\n",
    "    item = json.loads(data)\n",
    "    result['data'].append({\n",
    "        'title': item['name'],\n",
    "        'work experience': item['experience']['name'],\n",
    "        'salary': item['salary'],\n",
    "        'region': item['area']['name']\n",
    "    })"
   ]
  },
  {
   "cell_type": "code",
   "execution_count": 76,
   "metadata": {},
   "outputs": [],
   "source": [
    "# Отображение зарплаты в более удобном виде для чтения\n",
    "for d in result['data']:\n",
    "    if d['salary']:\n",
    "        lb = d['salary']['from']\n",
    "        ub = d['salary']['to']\n",
    "        cur = d['salary']['currency']\n",
    "        if lb and ub: \n",
    "            d['salary'] = f'От {lb} до {ub} {cur}'\n",
    "        if lb:\n",
    "            d['salary'] = f'От {lb} {cur}'\n",
    "        if ub:\n",
    "            d['salary'] = f'До {ub} {cur}'"
   ]
  },
  {
   "cell_type": "code",
   "execution_count": 90,
   "metadata": {},
   "outputs": [],
   "source": [
    "# Сохранение результатов в json формате\n",
    "with open('data2.json', 'w', encoding='utf-8') as file:\n",
    "    json.dump(result, file, ensure_ascii=False, indent=4)"
   ]
  },
  {
   "cell_type": "markdown",
   "metadata": {},
   "source": [
    "### Задание 2. Палиндром строки\n",
    "Дана строка X, возвращайте True, если X является палиндромом.\n",
    "\n",
    "Строка является палиндромом тогда, когда она читается одинаково как в обратном, так и в прямом направлении.\n",
    "\n",
    "Например, является “taco cat” является палиндромом, в то время как “black cat” не является.\n",
    "В данной задаче пробелы не учитываются.\n",
    "\n",
    "Гарантируется, что исходная строка может содержать символы только нижнего регистра."
   ]
  },
  {
   "cell_type": "markdown",
   "metadata": {},
   "source": [
    "#### Решение 1"
   ]
  },
  {
   "cell_type": "code",
   "execution_count": 94,
   "metadata": {},
   "outputs": [],
   "source": [
    "def is_palindrome_1(a):\n",
    "    b = ''.join(a.split())\n",
    "    return b == b[::-1]"
   ]
  },
  {
   "cell_type": "code",
   "execution_count": 96,
   "metadata": {},
   "outputs": [
    {
     "name": "stdout",
     "output_type": "stream",
     "text": [
      "\"taco cat\" True\n",
      "\"rotator\" True\n",
      "\"black cat\" False\n"
     ]
    }
   ],
   "source": [
    "examples = ['\"taco cat\"', '\"rotator\"', '\"black cat\"']\n",
    "for example in examples:\n",
    "    print(example, is_palindrome_1(example))"
   ]
  },
  {
   "cell_type": "markdown",
   "metadata": {},
   "source": [
    "#### Решение 2"
   ]
  },
  {
   "cell_type": "code",
   "execution_count": 97,
   "metadata": {},
   "outputs": [],
   "source": [
    "def is_palindrome_2(a):\n",
    "    b = a.replace(' ', '')\n",
    "    return b == b[::-1]"
   ]
  },
  {
   "cell_type": "code",
   "execution_count": 98,
   "metadata": {},
   "outputs": [
    {
     "name": "stdout",
     "output_type": "stream",
     "text": [
      "\"taco cat\" True\n",
      "\"rotator\" True\n",
      "\"black cat\" False\n"
     ]
    }
   ],
   "source": [
    "examples = ['\"taco cat\"', '\"rotator\"', '\"black cat\"']\n",
    "for example in examples:\n",
    "    print(example, is_palindrome_2(example))"
   ]
  },
  {
   "attachments": {
    "image-2.png": {
     "image/png": "[encoded data removed]"
    }
   },
   "cell_type": "markdown",
   "metadata": {},
   "source": [
    "### Задание 3. Перевод арабского числа в римское\n",
    "Дано целое положительное число X, необходимо вывести вариант этого числа в римской системе счисления в формате строки.\n",
    "![image-2.png](attachment:image-2.png)\n",
    "Римские числа записываются от наибольшего числа к наименьшему слева направо.\n",
    "\n",
    "Однако число 4 не является “IIII”. Вместо этого число 4 записывается, как “IV”. Т.к. 1 стоит перед 5, мы вычитаем 1, делая 4. Тот же принцип применим к числу 9, которое записывается как “IX”.\n",
    "\n",
    "Случаи, когда используется вычитание:\n",
    "\n",
    "I может быть помещен перед V и X, чтобы сделать 4 и 9.\n",
    "\n",
    "X может быть помещен перед L и C, чтобы составить 40 и 90.\n",
    "\n",
    "C может быть помещен перед D и M, чтобы составить 400 и 900."
   ]
  },
  {
   "cell_type": "markdown",
   "metadata": {},
   "source": [
    "#### Решение"
   ]
  },
  {
   "cell_type": "code",
   "execution_count": 198,
   "metadata": {},
   "outputs": [],
   "source": [
    "# Функция, которая возвращает значение множителя\n",
    "# для заданного разряда в заданном числе\n",
    "def digits(number, n):\n",
    "    \"\"\"\n",
    "    number - заданное число\n",
    "    n - номер разряда, начиная с нулевого\n",
    "    \"\"\"\n",
    "    return int((number % 10**(n + 1) - number % 10**n) / 10**n)"
   ]
  },
  {
   "cell_type": "code",
   "execution_count": 199,
   "metadata": {},
   "outputs": [],
   "source": [
    "# Словарь, который содержит римские обозначения для \n",
    "# значений 1 и 5 соответствующих номеров разряда\n",
    "dic = {\n",
    "    0: {'1': 'I', '5': 'V'},\n",
    "    1: {'1': 'X', '5': 'L'},\n",
    "    2: {'1': 'C', '5': 'D'},\n",
    "    3: {'1': 'M'}\n",
    "}"
   ]
  },
  {
   "cell_type": "code",
   "execution_count": 200,
   "metadata": {},
   "outputs": [],
   "source": [
    "# Функция, которая подставляет римское обозначение из словаря\n",
    "# для заданного номера разряда и значения множителя\n",
    "def mapping(dic, digit, value):\n",
    "    if value >= 1 and value <= 3:\n",
    "        return value * dic[digit]['1']\n",
    "    elif value == 4:\n",
    "        return dic[digit]['1'] + dic[digit]['5']\n",
    "    elif value >= 5 and value <= 8:\n",
    "        return dic[digit]['5'] + (value - 5) * dic[digit]['1']\n",
    "    elif value == 9:\n",
    "        return dic[digit]['1'] + dic[digit + 1]['1']\n",
    "    elif value == 0:\n",
    "        return ''"
   ]
  },
  {
   "cell_type": "code",
   "execution_count": 201,
   "metadata": {},
   "outputs": [],
   "source": [
    "# Функция, которая делает преобразование из арабской записи в римскую\n",
    "def roman(arabic_number):\n",
    "    roman_number = ''\n",
    "    for i in [3, 2, 1, 0]:\n",
    "        value = digits(arabic_number, i)\n",
    "        roman_number += mapping(dic, i, value)\n",
    "    return roman_number"
   ]
  },
  {
   "cell_type": "code",
   "execution_count": 207,
   "metadata": {
    "scrolled": true
   },
   "outputs": [
    {
     "name": "stdout",
     "output_type": "stream",
     "text": [
      "3 \"III\"\n",
      "9 \"IX\"\n",
      "1945 \"MCMXLV\"\n",
      "40 \"XL\"\n",
      "90 \"XC\"\n",
      "6 \"VI\"\n",
      "7 \"VII\"\n",
      "400 \"CD\"\n",
      "2000 \"MM\"\n"
     ]
    }
   ],
   "source": [
    "examples = [3, 9, 1945, 40, 90, 6, 7, 400, 2000]\n",
    "for example in examples:\n",
    "    print(example, '\"' + roman(example) + '\"')"
   ]
  },
  {
   "cell_type": "markdown",
   "metadata": {},
   "source": [
    "### Задание 4. Валидность скобок\n",
    "\n",
    "Дана строка X, состоящая только из символов “{“, “}”, “[“, “]”, “(“, “)”. Программа должна вывести True, в том случае если все открытые скобки закрыты. Например: “[()]{}”, все открытые скобки закрыты закрывающимися скобками, потому вывод будет True. В случае же, если строка будет похожа на: “{{{}”, то вывод будет False, т.к. не все открытые скобки закрыты."
   ]
  },
  {
   "cell_type": "markdown",
   "metadata": {},
   "source": [
    "#### Решение"
   ]
  },
  {
   "cell_type": "code",
   "execution_count": 213,
   "metadata": {},
   "outputs": [],
   "source": [
    "def check_string(string):\n",
    "    dic = {'{': 0, '}': 0, '[': 0, ']': 0, '(': 0, ')': 0}\n",
    "    for s in string:\n",
    "        dic[s] += 1\n",
    "        if dic['{'] < dic['}'] or dic['['] < dic[']'] or dic['('] < dic[')']:\n",
    "            return False\n",
    "    if dic['{'] != dic['}'] or dic['['] != dic[']'] or dic['('] != dic[')']:\n",
    "        return False\n",
    "    else:\n",
    "        return True"
   ]
  },
  {
   "cell_type": "code",
   "execution_count": 215,
   "metadata": {
    "scrolled": true
   },
   "outputs": [
    {
     "name": "stdout",
     "output_type": "stream",
     "text": [
      "[{}({})] True\n",
      "{] False\n",
      "{ False\n",
      "{[}] True\n",
      "}{ False\n"
     ]
    }
   ],
   "source": [
    "examples = ['[{}({})]', '{]', '{', '{[}]', '}{']\n",
    "for example in examples:\n",
    "    print(example, check_string(example))"
   ]
  },
  {
   "cell_type": "markdown",
   "metadata": {},
   "source": [
    "### Задание 5. Умножить два бинарных числа в формате строк\n",
    "\n",
    "На вход подаются две строки X1 и X2, содержащие бинарные числа.\n",
    "\n",
    "Необходимо вывести их бинарное произведение в формате строки."
   ]
  },
  {
   "cell_type": "markdown",
   "metadata": {},
   "source": [
    "#### Решение"
   ]
  },
  {
   "cell_type": "code",
   "execution_count": 2,
   "metadata": {},
   "outputs": [],
   "source": [
    "# Функция, которая принимает две строки, содержащие бинарные числа\n",
    "# и возвращает бинарное произведение в формате строки\n",
    "def bin_mult(s1, s2):\n",
    "    return format(int(s1, 2) * int(s2, 2), 'b')"
   ]
  },
  {
   "cell_type": "code",
   "execution_count": 6,
   "metadata": {},
   "outputs": [
    {
     "name": "stdout",
     "output_type": "stream",
     "text": [
      "111 * 101 = 100011\n",
      "110 * 10 = 1100\n",
      "1001 * 1100 = 1101100\n"
     ]
    }
   ],
   "source": [
    "examples = [('111', '101'), ('110', '10'), ('1001', '1100')]\n",
    "for example in examples:\n",
    "    print(' * '.join(example), '=', bin_mult(*example))"
   ]
  }
 ],
 "metadata": {
  "kernelspec": {
   "display_name": "Python 3",
   "language": "python",
   "name": "python3"
  },
  "language_info": {
   "codemirror_mode": {
    "name": "ipython",
    "version": 3
   },
   "file_extension": ".py",
   "mimetype": "text/x-python",
   "name": "python",
   "nbconvert_exporter": "python",
   "pygments_lexer": "ipython3",
   "version": "3.8.5"
  },
  "vscode": {
   "interpreter": {
    "hash": "45a93f0c14cec12b371c479b124da2b1f18adb68e854f2a0a4ee0e623d5d95aa"
   }
  }
 },
 "nbformat": 4,
 "nbformat_minor": 4
}
